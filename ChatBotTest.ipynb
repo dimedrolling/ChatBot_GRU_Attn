{
 "cells": [
  {
   "cell_type": "code",
   "execution_count": 1,
   "metadata": {
    "colab": {
     "base_uri": "https://localhost:8080/"
    },
    "id": "f2faFCLCZ12u",
    "outputId": "f7b9c9c7-b8d0-4c37-ff4c-4daa5ace3f84"
   },
   "outputs": [
    {
     "name": "stdout",
     "output_type": "stream",
     "text": [
      "Drive already mounted at /content/drive; to attempt to forcibly remount, call drive.mount(\"/content/drive\", force_remount=True).\n"
     ]
    }
   ],
   "source": [
    "# to work online. save weights of nn to google drive, e.t.c.\n",
    "from google.colab import drive\n",
    "drive.mount('/content/drive')"
   ]
  },
  {
   "cell_type": "code",
   "execution_count": 24,
   "metadata": {
    "id": "0bdVnuHYeSV_"
   },
   "outputs": [],
   "source": [
    "import torch\n",
    "from torch.jit import script, trace\n",
    "import torch.nn as nn\n",
    "from torch import optim\n",
    "import torch.nn.functional as F\n",
    "import csv\n",
    "import random\n",
    "import re\n",
    "import os\n",
    "import unicodedata\n",
    "import codecs\n",
    "from io import open\n",
    "import itertools\n",
    "import math\n",
    "from tqdm import tqdm\n",
    "import matplotlib.pyplot as plt"
   ]
  },
  {
   "cell_type": "code",
   "execution_count": 3,
   "metadata": {
    "colab": {
     "base_uri": "https://localhost:8080/"
    },
    "id": "g8kza_fLhG1M",
    "outputId": "0e095680-1917-4730-8e88-739b1dc9991e"
   },
   "outputs": [
    {
     "name": "stdout",
     "output_type": "stream",
     "text": [
      "cuda\n"
     ]
    }
   ],
   "source": [
    "# it is faster to use gpu or tpu\n",
    "USE_CUDA = torch.cuda.is_available()\n",
    "device = torch.device(\"cuda\" if USE_CUDA else \"cpu\")\n",
    "print(device)"
   ]
  },
  {
   "cell_type": "code",
   "execution_count": 4,
   "metadata": {
    "id": "lxvVDEX9YNYO"
   },
   "outputs": [],
   "source": [
    "# !!!! for fast start without remaking cvs of lines and skip some next cells\n",
    "corpus_name = \"/content/drive/MyDrive/ChatBot/input/simpsons_dataset.csv\"\n",
    "#datafile is txt of formatted pairs \n",
    "datafile = \"/content/drive/MyDrive/ChatBot/input/formatted_simpsons_movie_lines.txt\""
   ]
  },
  {
   "cell_type": "code",
   "execution_count": null,
   "metadata": {
    "colab": {
     "base_uri": "https://localhost:8080/"
    },
    "id": "DBXiuVAhhGyP",
    "outputId": "4503fd57-f785-48eb-8696-87b080695c70"
   },
   "outputs": [],
   "source": [
    "# make this path to csv file with your corpus \n",
    "corpus_name = \"/content/drive/MyDrive/ChatBot/input/simpsons_dataset.csv\""
   ]
  },
  {
   "cell_type": "code",
   "execution_count": 5,
   "metadata": {
    "colab": {
     "base_uri": "https://localhost:8080/"
    },
    "id": "DBXiuVAhhGyP",
    "outputId": "4503fd57-f785-48eb-8696-87b080695c70",
    "scrolled": false
   },
   "outputs": [
    {
     "name": "stdout",
     "output_type": "stream",
     "text": [
      "b'raw_character_text,spoken_words\\r\\n'\n",
      "b'Miss Hoover,\"No, actually, it was a little of both. Sometimes when a disease is in all the magazines and all the news shows, it\\'s only natural that you think you have it.\"\\r\\n'\n",
      "b\"Lisa Simpson,Where's Mr. Bergstrom?\\r\\n\"\n",
      "b\"Miss Hoover,I don't know. Although I'd sure like to talk to him. He didn't touch my lesson plan. What did he teach you?\\r\\n\"\n",
      "b'Lisa Simpson,That life is worth living.\\r\\n'\n",
      "b'Edna Krabappel-Flanders,\"The polls will be open from now until the end of recess. Now, just in case any of you have decided to put any thought into this, we\\'ll have our final statements. Martin?\"\\r\\n'\n",
      "b\"Martin Prince,I don't think there's anything left to say.\\r\\n\"\n",
      "b'Edna Krabappel-Flanders,Bart?\\r\\n'\n",
      "b'Bart Simpson,Victory party under the slide!\\r\\n'\n",
      "b',\\r\\n'\n"
     ]
    }
   ],
   "source": [
    "# making sure it works \n",
    "def printLines(file, n=10):\n",
    "    with open(file, 'rb') as datafile:\n",
    "        lines = datafile.readlines()\n",
    "    for line in lines[:n]:\n",
    "        print(line)\n",
    "\n",
    "printLines(corpus_name)"
   ]
  },
  {
   "cell_type": "markdown",
   "metadata": {
    "id": "uR28UU4Xq1vf"
   },
   "source": [
    "Орабатывая входную последовательность, мы хотим обобщить всю информацию, которая в ней содержится в некий вектор С\n",
    "Далее мы передаем этот вектор во вторую RNN, которая является декодером\n",
    "https://habr.com/ru/company/wunderfund/blog/331310/"
   ]
  },
  {
   "cell_type": "markdown",
   "metadata": {
    "id": "EKB-bdqa-UqM"
   },
   "source": [
    "Пример заранее определнной функции для очистки естественного языка\n",
    "\n",
    "https://www.kaggle.com/code/currie32/a-south-park-chatbot\n",
    "```\n",
    "def clean_text(text):\n",
    "    '''Clean text by removing unnecessary characters and altering the format of words.'''\n",
    "\n",
    "    text = text.lower()\n",
    "    \n",
    "    text = re.sub(r\"\\n\", \"\",  text)\n",
    "    text = re.sub(r\"[-()]\", \"\", text)\n",
    "    text = re.sub(r\"\\.\", \" .\", text)\n",
    "    text = re.sub(r\"\\!\", \" !\", text)\n",
    "    text = re.sub(r\"\\?\", \" ?\", text)\n",
    "    text = re.sub(r\"\\,\", \" ,\", text)\n",
    "    text = re.sub(r\"i'm\", \"i am\", text)\n",
    "    text = re.sub(r\"he's\", \"he is\", text)\n",
    "    text = re.sub(r\"she's\", \"she is\", text)\n",
    "    text = re.sub(r\"it's\", \"it is\", text)\n",
    "    text = re.sub(r\"that's\", \"that is\", text)\n",
    "    text = re.sub(r\"what's\", \"that is\", text)\n",
    "    text = re.sub(r\"\\'ll\", \" will\", text)\n",
    "    text = re.sub(r\"\\'re\", \" are\", text)\n",
    "    text = re.sub(r\"won't\", \"will not\", text)\n",
    "    text = re.sub(r\"can't\", \"cannot\", text)\n",
    "    text = re.sub(r\"n't\", \" not\", text)\n",
    "    text = re.sub(r\"n'\", \"ng\", text)\n",
    "    text = re.sub(r\"ohh\", \"oh\", text)\n",
    "    text = re.sub(r\"ohhh\", \"oh\", text)\n",
    "    text = re.sub(r\"ohhhh\", \"oh\", text)\n",
    "    text = re.sub(r\"ohhhhh\", \"oh\", text)\n",
    "    text = re.sub(r\"ohhhhhh\", \"oh\", text)\n",
    "    text = re.sub(r\"ahh\", \"ah\", text)\n",
    "    \n",
    "    return text\n",
    "```\n",
    "\n"
   ]
  },
  {
   "cell_type": "code",
   "execution_count": 6,
   "metadata": {
    "id": "Zv3BZKN-jgAc"
   },
   "outputs": [],
   "source": [
    "# Extracts pairs of sentences from conversations\n",
    "# makes pairs of (input, answer)\n",
    "# Remember to comment here debug if you want the entire corpus\n",
    "def extractSimpsonsSentencePairs(fileName):\n",
    "    qa_pairs = []\n",
    "    \n",
    "    with open(fileName, 'r', encoding='utf-8') as f:\n",
    "        lines = f.read().strip().split('\\n')\n",
    "        \n",
    "        for i in range(1, len(lines) - 1):\n",
    "            # if (i > 5000): break # debug\n",
    "            inputLine = lines[i].split(',', 1)[1].strip(',.\"\"')\n",
    "            if lines[i+1]==',':\n",
    "                continue #start next scene\n",
    "            targetLine = lines[i+1].split(',', 1)[1].strip(',.\"\"')\n",
    "            \n",
    "            if (len(inputLine) > 0 and len(targetLine) > 0):\n",
    "                qa_pairs.append([inputLine, targetLine])\n",
    "    \n",
    "    return qa_pairs"
   ]
  },
  {
   "cell_type": "code",
   "execution_count": 7,
   "metadata": {
    "id": "LK-6pj9CwCBd"
   },
   "outputs": [],
   "source": [
    "# Define path to new file\n",
    "#datafile = os.path.join(corpus, \"formatted_movie_lines.txt\")\n",
    "datafile = \"/content/drive/MyDrive/ChatBot/input/formatted_simpsons_movie_lines.txt\"\n",
    "\n",
    "delimiter = '\\t'\n",
    "# Unescape the delimiter\n",
    "delimiter = str(codecs.decode(delimiter, \"unicode_escape\"))"
   ]
  },
  {
   "cell_type": "code",
   "execution_count": null,
   "metadata": {
    "colab": {
     "base_uri": "https://localhost:8080/"
    },
    "id": "mlNRApsTkCtv",
    "outputId": "8d7e0f25-1b84-47fb-a9c0-942f60929424"
   },
   "outputs": [
    {
     "name": "stdout",
     "output_type": "stream",
     "text": [
      "\n",
      "Writing newly formatted file...\n",
      "\n",
      "Sample lines from file:\n",
      "b\"No, actually, it was a little of both. Sometimes when a disease is in all the magazines and all the news shows, it's only natural that you think you have it\\tWhere's Mr. Bergstrom?\\n\"\n",
      "b\"Where's Mr. Bergstrom?\\tI don't know. Although I'd sure like to talk to him. He didn't touch my lesson plan. What did he teach you?\\n\"\n",
      "b\"I don't know. Although I'd sure like to talk to him. He didn't touch my lesson plan. What did he teach you?\\tThat life is worth living\\n\"\n",
      "b\"That life is worth living\\tThe polls will be open from now until the end of recess. Now, just in case any of you have decided to put any thought into this, we'll have our final statements. Martin?\\n\"\n",
      "b\"The polls will be open from now until the end of recess. Now, just in case any of you have decided to put any thought into this, we'll have our final statements. Martin?\\tI don't think there's anything left to say\\n\"\n",
      "b\"I don't think there's anything left to say\\tBart?\\n\"\n",
      "b'Bart?\\tVictory party under the slide!\\n'\n",
      "b'Mr. Bergstrom! Mr. Bergstrom!\\tHey, hey, he Moved out this morning. He must have a new job -- he took his Copernicus costume\\n'\n",
      "b'Hey, hey, he Moved out this morning. He must have a new job -- he took his Copernicus costume\\tDo you know where I could find him?\\n'\n",
      "b\"Do you know where I could find him?\\tI think he's taking the next train to Capital City\\n\"\n"
     ]
    }
   ],
   "source": [
    "\n",
    "# Write new csv file\n",
    "print(\"\\nWriting newly formatted file...\")\n",
    "with open(datafile, 'w', encoding='utf-8') as outputfile:\n",
    "    writer = csv.writer(outputfile, delimiter=delimiter, lineterminator='\\n')    \n",
    "    for pair in extractSimpsonsSentencePairs(corpus_name):\n",
    "        writer.writerow(pair)\n",
    "        \n",
    "        \n",
    "\n",
    "# Print a sample of lines\n",
    "print(\"\\nSample lines from file:\")\n",
    "printLines(datafile)"
   ]
  },
  {
   "cell_type": "code",
   "execution_count": 5,
   "metadata": {
    "id": "UG3IiVjFkdEm"
   },
   "outputs": [],
   "source": [
    "# Default word tokens, i.e. not words, but special markers to indicate:\n",
    "PAD_token = 0  # Used for padding short sentences to max lenght\n",
    "SOS_token = 1  # Start-of-sentence token\n",
    "EOS_token = 2  # End-of-sentence token\n",
    "\n",
    "# class vocabulary \n",
    "# stores words with indexes to identify, i.e. makes tokenezation possible\n",
    "\n",
    "class Voc:\n",
    "    def __init__(self, name):\n",
    "        self.name = name\n",
    "        self.trimmed = False\n",
    "        self.word2index = {}\n",
    "        self.word2count = {}\n",
    "        self.index2word = {PAD_token: \"PAD\", SOS_token: \"SOS\", EOS_token: \"EOS\"}\n",
    "        self.num_words = 3  # Count SOS, EOS, PAD\n",
    "    \n",
    "#     adds each word in sentence\n",
    "    def addSentence(self, sentence):\n",
    "        for word in sentence.split(' '):\n",
    "            self.addWord(word)\n",
    "# add word if its not exist, or count++ else\n",
    "    def addWord(self, word):\n",
    "        if word not in self.word2index:\n",
    "            self.word2index[word] = self.num_words\n",
    "            self.word2count[word] = 1\n",
    "            self.index2word[self.num_words] = word\n",
    "            self.num_words += 1\n",
    "        else:\n",
    "            self.word2count[word] += 1\n",
    "\n",
    "# Remove words below a certain count threshold\n",
    "#     stores what good, remakes voc with only those \n",
    "    def trim(self, min_count):\n",
    "        if self.trimmed:\n",
    "            return\n",
    "        self.trimmed = True\n",
    "\n",
    "        keep_words = []\n",
    "\n",
    "        for k, v in self.word2count.items():\n",
    "            if v >= min_count:\n",
    "                keep_words.append(k)\n",
    "\n",
    "        print('keep_words {} / {} = {:.4f}'.format(\n",
    "            len(keep_words), len(self.word2index), len(keep_words) / len(self.word2index)\n",
    "        ))\n",
    "\n",
    "        # Reinitialize dictionaries\n",
    "        self.word2index = {}\n",
    "        self.word2count = {}\n",
    "        self.index2word = {PAD_token: \"PAD\", SOS_token: \"SOS\", EOS_token: \"EOS\"}\n",
    "        self.num_words = 3 # Count default tokens\n",
    "\n",
    "        for word in keep_words:\n",
    "            self.addWord(word)"
   ]
  },
  {
   "cell_type": "code",
   "execution_count": 6,
   "metadata": {
    "id": "G0CJH3Eqkf_J"
   },
   "outputs": [],
   "source": [
    "MAX_LENGTH = 15  # Maximum sentence length in runes to consider \n",
    "\n",
    "# Turn a Unicode string to plain ASCII  https://stackoverflow.com/a/518232/2809427\n",
    "def unicodeToAscii(s):\n",
    "    return ''.join(\n",
    "        c for c in unicodedata.normalize('NFD', s)\n",
    "        if unicodedata.category(c) != 'Mn'\n",
    "    )\n",
    "\n",
    "# Lowercase, trim, and remove non-letter characters\n",
    "def normalizeString(s):\n",
    "    s = unicodeToAscii(s.lower().strip())\n",
    "    s = re.sub(r\"i'm\", \"i am\", s)\n",
    "    s = re.sub(r\"\\'s\", \" is\", s)\n",
    "    s = re.sub(r\"he's\", \"he is\", s) #redunant \n",
    "    s = re.sub(r\"she's\", \"she is\", s)\n",
    "    s = re.sub(r\"it's\", \"it is\", s)\n",
    "    s = re.sub(r\"that's\", \"that is\", s)\n",
    "    s = re.sub(r\"what's\", \"that is\", s)\n",
    "    s = re.sub(r\"\\'ve\", \" have\", s)\n",
    "    s = re.sub(r\"\\'ll\", \" will\", s)\n",
    "    s = re.sub(r\"\\'re\", \" are\", s)\n",
    "    s = re.sub(r\"won't\", \"will not\", s)\n",
    "    s = re.sub(r\"can't\", \"cannot\", s)\n",
    "    s = re.sub(r\"n't\", \" not\", s)\n",
    "    s = re.sub(r\"\\'d\", \" would\", s)\n",
    "    s = re.sub(r\"\\.+\",\"\\.\",s)\n",
    "    s = re.sub(r\"([.!?])\", r\" \\1\", s) # add space before .?!\n",
    "    s = re.sub(r\"[^a-zA-Z.!?]+\", r\" \", s) # replace other nonletter(includes ,)\n",
    "    s = re.sub(r\"\\s+\", r\" \", s).strip()  # replace whitespaces with  only one\n",
    "    return s\n",
    "\n",
    "# Read query/response pairs and return a voc object\n",
    "def readVocs(datafile, corpus_name):\n",
    "    print(\"Reading lines...\")\n",
    "    # Read the file and split into lines\n",
    "    lines = open(datafile, encoding='utf-8').\\\n",
    "        read().strip().split('\\n')\n",
    "    # Split every line into pairs and normalize\n",
    "    pairs = [[normalizeString(s) for s in l.split('\\t')] for l in lines]\n",
    "    voc = Voc(corpus_name)\n",
    "    return voc, pairs\n",
    "\n",
    "# Returns True if both sentences in a pair 'p' are under the MAX_LENGTH threshold\n",
    "def filterPair(p):\n",
    "    # Input sequences need to preserve the last word for EOS token\n",
    "    return len(p[0].split(' ')) < MAX_LENGTH and len(p[1].split(' ')) < MAX_LENGTH\n",
    "\n",
    "# Filter pairs using filterPair condition\n",
    "def filterPairs(pairs):\n",
    "    return [pair for pair in pairs if filterPair(pair)]\n",
    "\n",
    "# Using the functions defined above, return a populated voc object and pairs list\n",
    "# datafile stores pairs\n",
    "def loadPrepareData( corpus_name, datafile, save_dir):\n",
    "    print(\"Start preparing training data ...\")\n",
    "    voc, pairs = readVocs(datafile, corpus_name)\n",
    "    print(\"Read {!s} sentence pairs\".format(len(pairs)))\n",
    "    pairs = filterPairs(pairs)\n",
    "    print(\"Trimmed to {!s} sentence pairs\".format(len(pairs)))\n",
    "    print(\"Counting words...\")\n",
    "    for pair in pairs:\n",
    "        voc.addSentence(pair[0])\n",
    "        voc.addSentence(pair[1])\n",
    "    print(\"Counted words:\", voc.num_words)\n",
    "    return voc, pairs"
   ]
  },
  {
   "cell_type": "code",
   "execution_count": 7,
   "metadata": {
    "colab": {
     "base_uri": "https://localhost:8080/"
    },
    "id": "CgC9QDd-ksW-",
    "outputId": "7f56fce6-95ab-47c8-c284-6592f7ac2296"
   },
   "outputs": [
    {
     "name": "stdout",
     "output_type": "stream",
     "text": [
      "Start preparing training data ...\n",
      "Reading lines...\n",
      "Read 110373 sentence pairs\n",
      "Trimmed to 59470 sentence pairs\n",
      "Counting words...\n",
      "Counted words: 24372\n",
      "\n",
      "pairs:\n",
      "['i do not think there is anything left to say', 'bart ?']\n",
      "['bart ?', 'victory party under the slide !']\n",
      "['do you know where i could find him ?', 'i think he is taking the next train to capital city']\n",
      "['i think he is taking the next train to capital city', 'the train how like him . traditional yet environmentally sound']\n",
      "['hey thanks for your vote man', 'i did not vote . voting is for geeks']\n",
      "['i did not vote . voting is for geeks', 'well you got that right . thanks for your vote girls']\n",
      "['well you got that right . thanks for your vote girls', 'we forgot']\n",
      "['uh oh', 'lewis ?']\n",
      "['lewis ?', 'somebody must have voted']\n",
      "['somebody must have voted', 'what about you bart ? did not you vote ?']\n"
     ]
    }
   ],
   "source": [
    "# Load/Assemble voc and pairs\n",
    "save_dir = os.path.join(\"data\", \"save\")\n",
    "voc, pairs = loadPrepareData( corpus_name, datafile, save_dir) #corpus name stands only for file name\n",
    "# Print some pairs to validate\n",
    "print(\"\\npairs:\")\n",
    "for pair in pairs[:10]:\n",
    "    print(pair)"
   ]
  },
  {
   "cell_type": "code",
   "execution_count": null,
   "metadata": {
    "colab": {
     "base_uri": "https://localhost:8080/",
     "height": 35
    },
    "id": "LNVcGSO6Abwq",
    "outputId": "307ce7f2-f9a2-47ac-de12-bbcb31fee428"
   },
   "outputs": [
    {
     "data": {
      "application/vnd.google.colaboratory.intrinsic+json": {
       "type": "string"
      },
      "text/plain": [
       "'data/save'"
      ]
     },
     "execution_count": 19,
     "metadata": {},
     "output_type": "execute_result"
    }
   ],
   "source": [
    "# dir to save data, including weights \n",
    "save_dir\n"
   ]
  },
  {
   "cell_type": "code",
   "execution_count": 8,
   "metadata": {
    "id": "q-evTu8cn1aR"
   },
   "outputs": [],
   "source": [
    "MIN_COUNT = 3    # Minimum word count threshold for trimming\n",
    "\n",
    "def trimRareWords(voc, pairs, MIN_COUNT):\n",
    "    # Trim words used under the MIN_COUNT from the voc\n",
    "    voc.trim(MIN_COUNT)\n",
    "    # Filter out pairs with trimmed words\n",
    "    keep_pairs = []\n",
    "    for pair in pairs:\n",
    "        input_sentence = pair[0]\n",
    "        output_sentence = pair[1]\n",
    "        keep_input = True\n",
    "        keep_output = True\n",
    "        # Check input sentence\n",
    "        for word in input_sentence.split(' '):\n",
    "            if word not in voc.word2index:\n",
    "                keep_input = False\n",
    "                break\n",
    "        # Check output sentence\n",
    "        for word in output_sentence.split(' '):\n",
    "            if word not in voc.word2index:\n",
    "                keep_output = False\n",
    "                break\n",
    "\n",
    "        # Only keep pairs that do not contain trimmed word(s) in their input or output sentence\n",
    "        if keep_input and keep_output:\n",
    "            keep_pairs.append(pair)\n",
    "\n",
    "    print(\"Trimmed from {} pairs to {}, {:.4f} of total\".format(len(pairs), len(keep_pairs), len(keep_pairs) / len(pairs)))\n",
    "    return keep_pairs"
   ]
  },
  {
   "cell_type": "code",
   "execution_count": 9,
   "metadata": {
    "colab": {
     "base_uri": "https://localhost:8080/"
    },
    "id": "QLVQ5_7Xn2yE",
    "outputId": "5f20d20b-ea77-4718-e816-332a51df3a57"
   },
   "outputs": [
    {
     "name": "stdout",
     "output_type": "stream",
     "text": [
      "keep_words 11707 / 24369 = 0.4804\n",
      "Trimmed from 59470 pairs to 45381, 0.7631 of total\n"
     ]
    }
   ],
   "source": [
    "# Trim voc and pairs\n",
    "pairs = trimRareWords(voc, pairs, MIN_COUNT)"
   ]
  },
  {
   "cell_type": "code",
   "execution_count": 10,
   "metadata": {
    "id": "1SV90YMgn8Sm"
   },
   "outputs": [],
   "source": [
    "# functions to encode sentence\n",
    "# want to make a matrix to pass in autoencoder \n",
    "\n",
    "def indexesFromSentence(voc, sentence):\n",
    "    return [voc.word2index[word] for word in sentence.split(' ')] + [EOS_token]\n",
    "\n",
    "\n",
    "def zeroPadding(l, fillvalue=PAD_token):\n",
    "    return list(itertools.zip_longest(*l, fillvalue=fillvalue))\n",
    "# Функция zip_longest() модуля itertools создает итератор, который объединяет элементы из каждой итерируемой последовательности\n",
    "# *iterables в кортежи. работает пока самая длинная итерация не будет исчерпана, а пропущенные элементы заполняются значением fillvalue.\n",
    "# https://docs-python.ru/standart-library/modul-itertools-python/funktsija-zip-longest-modulja-itertools/\n",
    "\n",
    "# makes one-hot encoding \n",
    "def binaryMatrix(l, value=PAD_token):\n",
    "    m = []\n",
    "    for i, seq in enumerate(l):\n",
    "        m.append([])\n",
    "        for token in seq:\n",
    "            if token == PAD_token:\n",
    "                m[i].append(0)\n",
    "            else:\n",
    "                m[i].append(1)\n",
    "    return m\n",
    "\n",
    "# Returns padded input sequence tensor and lengths\n",
    "def inputVar(l, voc):\n",
    "    indexes_batch = [indexesFromSentence(voc, sentence) for sentence in l]\n",
    "    lengths = torch.tensor([len(indexes) for indexes in indexes_batch])\n",
    "    padList = zeroPadding(indexes_batch)\n",
    "    padVar = torch.LongTensor(padList)\n",
    "    return padVar, lengths\n",
    "\n",
    "\n",
    "# Mask indicates if a value zero (PAD_token) or a actual data \n",
    "# Returns padded target sequence tensor, padding mask, and max target length\n",
    "def outputVar(l, voc):\n",
    "    indexes_batch = [indexesFromSentence(voc, sentence) for sentence in l]\n",
    "    max_target_len = max([len(indexes) for indexes in indexes_batch])\n",
    "    padList = zeroPadding(indexes_batch)\n",
    "    mask = binaryMatrix(padList)\n",
    "    mask = torch.BoolTensor(mask)\n",
    "    padVar = torch.LongTensor(padList)\n",
    "    return padVar, mask, max_target_len\n",
    "\n",
    "# Returns all items for a given batch of pairs\n",
    "def batch2TrainData(voc, pair_batch):\n",
    "    pair_batch.sort(key=lambda x: len(x[0].split(\" \")), reverse=True)\n",
    "    input_batch, output_batch = [], []\n",
    "    for pair in pair_batch:\n",
    "        input_batch.append(pair[0])\n",
    "        output_batch.append(pair[1])\n",
    "    inp, lengths = inputVar(input_batch, voc)\n",
    "    output, mask, max_target_len = outputVar(output_batch, voc)\n",
    "    return inp, lengths, output, mask, max_target_len"
   ]
  },
  {
   "cell_type": "code",
   "execution_count": 11,
   "metadata": {
    "colab": {
     "base_uri": "https://localhost:8080/"
    },
    "id": "A7OlU8Bxz76d",
    "outputId": "abfa3a2f-e126-4a60-a5ec-80cde0feb351"
   },
   "outputs": [
    {
     "name": "stdout",
     "output_type": "stream",
     "text": [
      "input_variable: tensor([[ 378,  152,  123,  345,   50],\n",
      "        [ 162,   50,  164,   35,  143],\n",
      "        [ 150,  136,   35,  797,  302],\n",
      "        [6477,  176,   65, 1980, 4798],\n",
      "        [ 436,  834, 2488,   20,    2],\n",
      "        [  97,  111, 7604,    2,    0],\n",
      "        [1054,  103,    2,    0,    0],\n",
      "        [  11,    2,    0,    0,    0],\n",
      "        [ 240,    0,    0,    0,    0],\n",
      "        [ 122,    0,    0,    0,    0],\n",
      "        [ 129,    0,    0,    0,    0],\n",
      "        [ 173,    0,    0,    0,    0],\n",
      "        [   2,    0,    0,    0,    0]])\n",
      "lengths: tensor([13,  8,  7,  6,  5])\n",
      "target_variable: tensor([[ 260,  131, 7814,   93, 1915],\n",
      "        [   3,   27,    2,   21,  150],\n",
      "        [ 143, 4637,    0,   89, 1121],\n",
      "        [  92,   65,    0, 2473,   35],\n",
      "        [  14,  909,    0,  220,  159],\n",
      "        [   2,  162,    0, 1599,   35],\n",
      "        [   0,  627,    0,  198,  531],\n",
      "        [   0,  243,    0,   14,   20],\n",
      "        [   0, 1130,    0,    2,    2],\n",
      "        [   0,   53,    0,    0,    0],\n",
      "        [   0,   93,    0,    0,    0],\n",
      "        [   0,  111,    0,    0,    0],\n",
      "        [   0, 7943,    0,    0,    0],\n",
      "        [   0,    2,    0,    0,    0]])\n",
      "mask: tensor([[ True,  True,  True,  True,  True],\n",
      "        [ True,  True,  True,  True,  True],\n",
      "        [ True,  True, False,  True,  True],\n",
      "        [ True,  True, False,  True,  True],\n",
      "        [ True,  True, False,  True,  True],\n",
      "        [ True,  True, False,  True,  True],\n",
      "        [False,  True, False,  True,  True],\n",
      "        [False,  True, False,  True,  True],\n",
      "        [False,  True, False,  True,  True],\n",
      "        [False,  True, False, False, False],\n",
      "        [False,  True, False, False, False],\n",
      "        [False,  True, False, False, False],\n",
      "        [False,  True, False, False, False],\n",
      "        [False,  True, False, False, False]])\n",
      "max_target_len: 14\n"
     ]
    }
   ],
   "source": [
    "# !Example for validation\n",
    "# to verify output \n",
    "small_batch_size = 5\n",
    "batches = batch2TrainData(voc, [random.choice(pairs) for _ in range(small_batch_size)])\n",
    "input_variable, lengths, target_variable, mask, max_target_len = batches\n",
    "\n",
    "print(\"input_variable:\", input_variable)\n",
    "print(\"lengths:\", lengths)\n",
    "print(\"target_variable:\", target_variable)\n",
    "print(\"mask:\", mask)\n",
    "print(\"max_target_len:\", max_target_len)"
   ]
  },
  {
   "cell_type": "code",
   "execution_count": 12,
   "metadata": {
    "id": "ZUjPzjqS0FEJ"
   },
   "outputs": [],
   "source": [
    "# encoder for gru. main flow of data. Bidirectional\n",
    "class EncoderRNN(nn.Module):\n",
    "    def __init__(self, hidden_size, embedding, n_layers=1, dropout=0):\n",
    "        super(EncoderRNN, self).__init__()\n",
    "        self.n_layers = n_layers\n",
    "        self.hidden_size = hidden_size\n",
    "        self.embedding = embedding\n",
    "\n",
    "        # Initialize GRU; the input_size and hidden_size params are both set to 'hidden_size'\n",
    "        #   because our input size is a word embedding with number of features == hidden_size\n",
    "#         https://pytorch.org/docs/stable/generated/torch.nn.GRU.html\n",
    "        self.gru = nn.GRU(hidden_size, hidden_size, n_layers,\n",
    "                          dropout=(0 if n_layers == 1 else dropout), bidirectional=True)\n",
    "\n",
    "    def forward(self, input_seq, input_lengths, hidden=None):\n",
    "        # Convert word indexes to embeddings\n",
    "        embedded = self.embedding(input_seq)\n",
    "        # Pack padded batch of sequences for RNN module\n",
    "        packed = nn.utils.rnn.pack_padded_sequence(embedded, input_lengths)\n",
    "        # Forward pass through GRU\n",
    "        outputs, hidden = self.gru(packed, hidden)\n",
    "        # Unpack padding\n",
    "        outputs, _ = nn.utils.rnn.pad_packed_sequence(outputs)\n",
    "        # Sum bidirectional GRU outputs\n",
    "        outputs = outputs[:, :, :self.hidden_size] + outputs[:, : ,self.hidden_size:]\n",
    "        # Return output and final hidden state\n",
    "        return outputs, hidden"
   ]
  },
  {
   "cell_type": "code",
   "execution_count": 13,
   "metadata": {
    "id": "pM8jeouo1eq-"
   },
   "outputs": [],
   "source": [
    "# Luong attention layer, linear \n",
    "# i.e. attention encoder, aside flow of data\n",
    "class Attn(nn.Module):\n",
    "    def __init__(self, method, hidden_size):\n",
    "        super(Attn, self).__init__()\n",
    "        self.method = method\n",
    "#        Luong attention mechanism have 3 different ways\n",
    "        if self.method not in ['dot', 'general', 'concat']:\n",
    "            raise ValueError(self.method, \"is not an appropriate attention method.\")\n",
    "        self.hidden_size = hidden_size\n",
    "        if self.method == 'general':\n",
    "            self.attn = nn.Linear(self.hidden_size, hidden_size)\n",
    "        elif self.method == 'concat':\n",
    "            self.attn = nn.Linear(self.hidden_size * 2, hidden_size)\n",
    "            self.v = nn.Parameter(torch.FloatTensor(hidden_size))\n",
    "\n",
    "    def dot_score(self, hidden, encoder_output):\n",
    "        return torch.sum(hidden * encoder_output, dim=2)\n",
    "#     dim (int or tuple of python:ints) – the dimension or dimensions to reduce.\n",
    "\n",
    "    def general_score(self, hidden, encoder_output):\n",
    "        energy = self.attn(encoder_output)\n",
    "        return torch.sum(hidden * energy, dim=2)\n",
    "\n",
    "    def concat_score(self, hidden, encoder_output):\n",
    "        energy = self.attn(torch.cat((hidden.expand(encoder_output.size(0), -1, -1), encoder_output), 2)).tanh()\n",
    "        return torch.sum(self.v * energy, dim=2)\n",
    "\n",
    "    def forward(self, hidden, encoder_outputs):\n",
    "        # Calculate the attention weights (energies) based on the given method\n",
    "        if self.method == 'general':\n",
    "            attn_energies = self.general_score(hidden, encoder_outputs)\n",
    "        elif self.method == 'concat':\n",
    "            attn_energies = self.concat_score(hidden, encoder_outputs)\n",
    "        elif self.method == 'dot':\n",
    "            attn_energies = self.dot_score(hidden, encoder_outputs)\n",
    "\n",
    "        # Transpose max_length and batch_size dimensions\n",
    "        attn_energies = attn_energies.t()\n",
    "\n",
    "        # Return the softmax normalized probability scores (with added dimension)\n",
    "        return F.softmax(attn_energies, dim=1).unsqueeze(1)"
   ]
  },
  {
   "cell_type": "code",
   "execution_count": 2,
   "metadata": {
    "collapsed": true,
    "id": "At-TjgGs1eoO"
   },
   "outputs": [
    {
     "ename": "NameError",
     "evalue": "name 'nn' is not defined",
     "output_type": "error",
     "traceback": [
      "\u001b[1;31m---------------------------------------------------------------------------\u001b[0m",
      "\u001b[1;31mNameError\u001b[0m                                 Traceback (most recent call last)",
      "Input \u001b[1;32mIn [2]\u001b[0m, in \u001b[0;36m<cell line: 2>\u001b[1;34m()\u001b[0m\n\u001b[0;32m      1\u001b[0m \u001b[38;5;66;03m# attention decoder, params - n_layers, dropuot \u001b[39;00m\n\u001b[1;32m----> 2\u001b[0m \u001b[38;5;28;01mclass\u001b[39;00m \u001b[38;5;21;01mLuongAttnDecoderRNN\u001b[39;00m(\u001b[43mnn\u001b[49m\u001b[38;5;241m.\u001b[39mModule):\n\u001b[0;32m      3\u001b[0m     \u001b[38;5;28;01mdef\u001b[39;00m \u001b[38;5;21m__init__\u001b[39m(\u001b[38;5;28mself\u001b[39m, attn_model, embedding, hidden_size, output_size, n_layers\u001b[38;5;241m=\u001b[39m\u001b[38;5;241m1\u001b[39m, dropout\u001b[38;5;241m=\u001b[39m\u001b[38;5;241m0.1\u001b[39m):\n\u001b[0;32m      4\u001b[0m         \u001b[38;5;28msuper\u001b[39m(LuongAttnDecoderRNN, \u001b[38;5;28mself\u001b[39m)\u001b[38;5;241m.\u001b[39m\u001b[38;5;21m__init__\u001b[39m()\n",
      "\u001b[1;31mNameError\u001b[0m: name 'nn' is not defined"
     ]
    }
   ],
   "source": [
    "# attention decoder, params - n_layers, dropuot \n",
    "#  decoder of aside data flow, GRU\n",
    "class LuongAttnDecoderRNN(nn.Module):\n",
    "    def __init__(self, attn_model, embedding, hidden_size, output_size, n_layers=1, dropout=0.1):\n",
    "        super(LuongAttnDecoderRNN, self).__init__()\n",
    "\n",
    "        # Keep for reference\n",
    "        self.attn_model = attn_model\n",
    "        self.hidden_size = hidden_size\n",
    "        self.output_size = output_size\n",
    "        self.n_layers = n_layers\n",
    "        self.dropout = dropout\n",
    "\n",
    "        # Define layers\n",
    "        self.embedding = embedding\n",
    "        self.embedding_dropout = nn.Dropout(dropout)\n",
    "        self.gru = nn.GRU(hidden_size, hidden_size, n_layers, dropout=(0 if n_layers == 1 else dropout))\n",
    "        self.concat = nn.Linear(hidden_size * 2, hidden_size)\n",
    "        self.out = nn.Linear(hidden_size, output_size)\n",
    "\n",
    "        self.attn = Attn(attn_model, hidden_size)\n",
    "\n",
    "    def forward(self, input_step, last_hidden, encoder_outputs):\n",
    "        # Note: we run this one step (word) at a time\n",
    "        # Get embedding of current input word\n",
    "        embedded = self.embedding(input_step)\n",
    "        embedded = self.embedding_dropout(embedded)\n",
    "        # Forward through unidirectional GRU\n",
    "        rnn_output, hidden = self.gru(embedded, last_hidden)\n",
    "        # Calculate attention weights from the current GRU output\n",
    "        attn_weights = self.attn(rnn_output, encoder_outputs)\n",
    "        # Multiply attention weights to encoder outputs to get new \"weighted sum\" context vector\n",
    "        context = attn_weights.bmm(encoder_outputs.transpose(0, 1))\n",
    "        # Concatenate weighted context vector and GRU output using Luong eq. 5\n",
    "        rnn_output = rnn_output.squeeze(0)\n",
    "        context = context.squeeze(1)\n",
    "        concat_input = torch.cat((rnn_output, context), 1)\n",
    "        concat_output = torch.tanh(self.concat(concat_input))\n",
    "        # Predict next word using Luong eq. 6\n",
    "        output = self.out(concat_output)\n",
    "        output = F.softmax(output, dim=1)\n",
    "        # Return output and final hidden state\n",
    "        return output, hidden"
   ]
  },
  {
   "cell_type": "code",
   "execution_count": 15,
   "metadata": {
    "id": "O8NhBksC1eld"
   },
   "outputs": [],
   "source": [
    "# it is reasonable to check loss only on data, but not comparing with PAD\n",
    "def maskNLLLoss(inp, target, mask):\n",
    "    nTotal = mask.sum()\n",
    "    # https://stackoverflow.com/questions/50999977/what-does-the-gather-function-do-in-pytorch-in-layman-terms\n",
    "    crossEntropy = -torch.log(torch.gather(inp, 1, target.view(-1, 1)).squeeze(1))\n",
    "    loss = crossEntropy.masked_select(mask).mean()\n",
    "    loss = loss.to(device)\n",
    "    # item - makes int from 0d tensor\n",
    "    return loss, nTotal.item()"
   ]
  },
  {
   "cell_type": "code",
   "execution_count": 16,
   "metadata": {
    "id": "u7VZPZoE1ei9"
   },
   "outputs": [],
   "source": [
    "# main train function \n",
    "def train(input_variable, lengths, target_variable, mask, max_target_len, encoder, decoder, embedding,\n",
    "          encoder_optimizer, decoder_optimizer, batch_size, clip, max_length=MAX_LENGTH):\n",
    "\n",
    "    # Zero gradients\n",
    "    encoder_optimizer.zero_grad()\n",
    "    decoder_optimizer.zero_grad()\n",
    "\n",
    "    # Set device options\n",
    "    input_variable = input_variable.to(device)\n",
    "    target_variable = target_variable.to(device)\n",
    "    mask = mask.to(device)\n",
    "    # Lengths for rnn packing should always be on the cpu\n",
    "    lengths = lengths.to(\"cpu\")\n",
    "\n",
    "    # Initialize variables\n",
    "    loss = 0\n",
    "    print_losses = []\n",
    "    n_totals = 0\n",
    "\n",
    "    # Forward pass through encoder\n",
    "    encoder_outputs, encoder_hidden = encoder(input_variable, lengths)\n",
    "\n",
    "    # Create initial decoder input (start with SOS tokens for each sentence)\n",
    "    decoder_input = torch.LongTensor([[SOS_token for _ in range(batch_size)]])\n",
    "    decoder_input = decoder_input.to(device)\n",
    "\n",
    "    # Set initial decoder hidden state to the encoder's final hidden state\n",
    "    decoder_hidden = encoder_hidden[:decoder.n_layers]\n",
    "\n",
    "    # Determine if we are using teacher forcing this iteration\n",
    "    use_teacher_forcing = True if random.random() < teacher_forcing_ratio else False\n",
    "\n",
    "    # Forward batch of sequences through decoder one time step at a time\n",
    "    if use_teacher_forcing:\n",
    "        for t in range(max_target_len):\n",
    "            decoder_output, decoder_hidden = decoder(\n",
    "                decoder_input, decoder_hidden, encoder_outputs\n",
    "            )\n",
    "            \n",
    "            # Teacher forcing: next input is current target\n",
    "            decoder_input = target_variable[t].view(1, -1)\n",
    "            # Calculate and accumulate loss\n",
    "            mask_loss, nTotal = maskNLLLoss(decoder_output, target_variable[t], mask[t])\n",
    "            loss += mask_loss\n",
    "            print_losses.append(mask_loss.item() * nTotal)\n",
    "            n_totals += nTotal\n",
    "    else:\n",
    "        for t in range(max_target_len):\n",
    "            decoder_output, decoder_hidden = decoder(\n",
    "                decoder_input, decoder_hidden, encoder_outputs\n",
    "            )\n",
    "            # No teacher forcing: next input is decoder's own current output\n",
    "            _, topi = decoder_output.topk(1)\n",
    "#             Returns the k largest elements of the given input tensor along a given dimension.\n",
    "            decoder_input = torch.LongTensor([[topi[i][0] for i in range(batch_size)]])\n",
    "            decoder_input = decoder_input.to(device)\n",
    "            # Calculate and accumulate loss\n",
    "            mask_loss, nTotal = maskNLLLoss(decoder_output, target_variable[t], mask[t])\n",
    "            loss += mask_loss\n",
    "            print_losses.append(mask_loss.item() * nTotal)\n",
    "            n_totals += nTotal\n",
    "    # Perform backpropatation\n",
    "    loss.backward()\n",
    "\n",
    "    # Clip gradients: gradients are modified in place\n",
    "    _ = nn.utils.clip_grad_norm_(encoder.parameters(), clip)\n",
    "    _ = nn.utils.clip_grad_norm_(decoder.parameters(), clip)\n",
    "\n",
    "    # Adjust model weights\n",
    "    encoder_optimizer.step()\n",
    "    decoder_optimizer.step()\n",
    "\n",
    "    return sum(print_losses) / n_totals"
   ]
  },
  {
   "cell_type": "code",
   "execution_count": 17,
   "metadata": {
    "id": "MxdUgrC-1egO"
   },
   "outputs": [],
   "source": [
    "# makes training start from custom load \n",
    "# https://pytorch.org/tutorials/recipes/recipes/saving_and_loading_a_general_checkpoint.html\n",
    "\n",
    "def trainIters(model_name, voc, pairs, encoder, decoder, encoder_optimizer, decoder_optimizer, embedding, encoder_n_layers, decoder_n_layers, save_dir, n_iteration, batch_size, print_every, save_every, clip, corpus_name, loadFilename):\n",
    "\n",
    "    # Load batches for each iteration\n",
    "    training_batches = [batch2TrainData(voc, [random.choice(pairs) for _ in range(batch_size)])\n",
    "                      for _ in range(n_iteration)]\n",
    "\n",
    "    # Initializations\n",
    "    print('Initializing ...')\n",
    "    start_iteration = 1\n",
    "    print_loss = 0\n",
    "    if loadFilename:\n",
    "        start_iteration = checkpoint['iteration'] + 1\n",
    "\n",
    "    loss_plot = []\n",
    "    iter_plot = []\n",
    "    # Training loop\n",
    "    print(\"Training...\")\n",
    "    for iteration in range(start_iteration, n_iteration + 1):\n",
    "        training_batch = training_batches[iteration - 1]\n",
    "        # Extract fields from batch\n",
    "        input_variable, lengths, target_variable, mask, max_target_len = training_batch\n",
    "\n",
    "        # Run a training iteration with batch\n",
    "        loss = train(input_variable, lengths, target_variable, mask, max_target_len, encoder,\n",
    "                     decoder, embedding, encoder_optimizer, decoder_optimizer, batch_size, clip)\n",
    "        print_loss += loss\n",
    "\n",
    "        # Print progress\n",
    "        if iteration % print_every == 0:\n",
    "            print_loss_avg = print_loss / print_every\n",
    "            print(\"Iteration: {}; Percent complete: {:.1f}%; Average loss: {:.4f}\".format(iteration, iteration / n_iteration * 100, print_loss_avg), end='\\n')\n",
    "            print_loss = 0\n",
    "            iter_plot.append(iteration)\n",
    "            loss_plot.append(print_loss_avg)\n",
    "\n",
    "        # Save checkpoint\n",
    "        if (iteration % save_every == 0):\n",
    "            directory = os.path.join(save_dir, model_name,corpus_name, '{}-{}_{}'.format(encoder_n_layers, decoder_n_layers, hidden_size))\n",
    "            if not os.path.exists(directory):\n",
    "                os.makedirs(directory)\n",
    "            torch.save({\n",
    "                'iteration': iteration,\n",
    "                'en': encoder.state_dict(),\n",
    "                'de': decoder.state_dict(),\n",
    "                'en_opt': encoder_optimizer.state_dict(),\n",
    "                'de_opt': decoder_optimizer.state_dict(),\n",
    "                'loss': loss,\n",
    "                'voc_dict': voc.__dict__,\n",
    "                'embedding': embedding.state_dict()\n",
    "            }, os.path.join(directory, '{}_{}.tar'.format(iteration, 'checkpoint')))\n",
    "    return loss_plot, iter_plot"
   ]
  },
  {
   "cell_type": "code",
   "execution_count": 18,
   "metadata": {
    "id": "intq8PZC1edX"
   },
   "outputs": [],
   "source": [
    "# makes model eval in  real time\n",
    "class GreedySearchDecoder(nn.Module):\n",
    "    def __init__(self, encoder, decoder):\n",
    "        super(GreedySearchDecoder, self).__init__()\n",
    "        self.encoder = encoder\n",
    "        self.decoder = decoder\n",
    "\n",
    "    def forward(self, input_seq, input_length, max_length):\n",
    "        # Forward input through encoder model\n",
    "        encoder_outputs, encoder_hidden = self.encoder(input_seq, input_length)\n",
    "        # Prepare encoder's final hidden layer to be first hidden input to the decoder\n",
    "        decoder_hidden = encoder_hidden[:decoder.n_layers]\n",
    "        # Initialize decoder input with SOS_token\n",
    "        decoder_input = torch.ones(1, 1, device=device, dtype=torch.long) * SOS_token\n",
    "        # Initialize tensors to append decoded words to\n",
    "        all_tokens = torch.zeros([0], device=device, dtype=torch.long)\n",
    "\n",
    "        # actually can try without that \n",
    "        all_scores = torch.zeros([0], device=device)\n",
    "        # Iteratively decode one word token at a time\n",
    "        for _ in range(max_length):\n",
    "            # Forward pass through decoder\n",
    "            decoder_output, decoder_hidden = self.decoder(decoder_input, decoder_hidden, encoder_outputs)\n",
    "            # Obtain most likely word token and its softmax score\n",
    "            decoder_scores, decoder_input = torch.max(decoder_output, dim=1)\n",
    "            # Record token and score\n",
    "            all_tokens = torch.cat((all_tokens, decoder_input), dim=0)\n",
    "            all_scores = torch.cat((all_scores, decoder_scores), dim=0)\n",
    "            # Prepare current token to be next decoder input (add a dimension)\n",
    "            decoder_input = torch.unsqueeze(decoder_input, 0)\n",
    "        # Return collections of word tokens and scores\n",
    "        return all_tokens, all_scores"
   ]
  },
  {
   "cell_type": "code",
   "execution_count": 19,
   "metadata": {
    "id": "XyUkFsZc1eaN"
   },
   "outputs": [],
   "source": [
    "def evaluate(encoder, decoder, searcher, voc, sentence, max_length=MAX_LENGTH):\n",
    "    ### Format input sentence as a batch\n",
    "    # words -> indexes\n",
    "    indexes_batch = [indexesFromSentence(voc, sentence)]\n",
    "    # Create lengths tensor\n",
    "    lengths = torch.tensor([len(indexes) for indexes in indexes_batch])\n",
    "    # Transpose dimensions of batch to match models' expectations\n",
    "    input_batch = torch.LongTensor(indexes_batch).transpose(0, 1)\n",
    "    # Use appropriate device\n",
    "    input_batch = input_batch.to(device)\n",
    "    lengths = lengths.to(\"cpu\")\n",
    "    # Decode sentence with searcher\n",
    "    tokens, scores = searcher(input_batch, lengths, max_length)\n",
    "    # indexes -> words\n",
    "    decoded_words = [voc.index2word[token.item()] for token in tokens]\n",
    "    return decoded_words\n",
    "\n",
    "\n",
    "def evaluateInput(encoder, decoder, searcher, voc):\n",
    "    input_sentence = ''\n",
    "    while(1):\n",
    "        try:\n",
    "            # Get input sentence\n",
    "            input_sentence = input('you> ')\n",
    "            # Check if it is quit case\n",
    "            if input_sentence == 'q' or input_sentence == 'quit': break\n",
    "            # Normalize sentence\n",
    "            input_sentence = normalizeString(input_sentence)\n",
    "            # Evaluate sentence\n",
    "            output_words = evaluate(encoder, decoder, searcher, voc, input_sentence)\n",
    "            # Format and print response sentence\n",
    "            output_words[:] = [x for x in output_words if not (x == 'EOS' or x == 'PAD')]\n",
    "            print('Bot>', ' '.join(output_words))\n",
    "\n",
    "        except KeyError:\n",
    "            print(\"Error: Encountered unknown word.\")"
   ]
  },
  {
   "cell_type": "code",
   "execution_count": 58,
   "metadata": {
    "colab": {
     "base_uri": "https://localhost:8080/"
    },
    "id": "pIdPDomw1eQ2",
    "outputId": "90f238bd-cf8e-4154-8981-c438517a1b24"
   },
   "outputs": [
    {
     "name": "stdout",
     "output_type": "stream",
     "text": [
      "Building encoder and decoder ...\n",
      "Models built and ready to go!\n"
     ]
    }
   ],
   "source": [
    "# Configure models\n",
    "model_name = 'cb_model'\n",
    "attn_model = 'dot' #or could be concat and general - see LuongEncoder for more details \n",
    "hidden_size = 750\n",
    "encoder_n_layers = 3\n",
    "decoder_n_layers = 2\n",
    "dropout = 0.1\n",
    "batch_size = 64\n",
    "\n",
    "\n",
    "# Configure training/optimization\n",
    "clip = 10.0\n",
    "learning_rate = 0.0001\n",
    "decoder_learning_ratio = 10.0\n",
    "n_iteration = 12000\n",
    "print_every = 250\n",
    "save_every = 12000\n",
    "\n",
    "\n",
    "\n",
    "# Set checkpoint to load from; set to None if starting from scratch\n",
    "loadFilename = None\n",
    "checkpoint_iter = 4000\n",
    "loadFilename = os.path.join(save_dir, model_name, corpus_name.strip('.csv'),\n",
    "                           '{}-{}_{}'.format(encoder_n_layers, decoder_n_layers, hidden_size),\n",
    "                           '{}_checkpoint.tar'.format(checkpoint_iter))\n",
    "\n",
    "\n",
    "# Load model if a loadFilename is provided\n",
    "if loadFilename:\n",
    "    # If loading on same machine the model was trained on\n",
    "    checkpoint = torch.load(loadFilename)\n",
    "    # If loading a model trained on GPU to CPU\n",
    "    #checkpoint = torch.load(loadFilename, map_location=torch.device('cpu'))\n",
    "    encoder_sd = checkpoint['en']\n",
    "    decoder_sd = checkpoint['de']\n",
    "    encoder_optimizer_sd = checkpoint['en_opt']\n",
    "    decoder_optimizer_sd = checkpoint['de_opt']\n",
    "    embedding_sd = checkpoint['embedding']\n",
    "    voc.__dict__ = checkpoint['voc_dict']\n",
    "\n",
    "\n",
    "print('Building encoder and decoder ...')\n",
    "# Initialize word embeddings\n",
    "embedding = nn.Embedding(voc.num_words, hidden_size)\n",
    "if loadFilename:\n",
    "    embedding.load_state_dict(embedding_sd)\n",
    "# Initialize encoder & decoder models\n",
    "encoder = EncoderRNN(hidden_size, embedding, encoder_n_layers, dropout)\n",
    "decoder = LuongAttnDecoderRNN(attn_model, embedding, hidden_size, voc.num_words, decoder_n_layers, dropout)\n",
    "if loadFilename:\n",
    "    encoder.load_state_dict(encoder_sd)\n",
    "    decoder.load_state_dict(decoder_sd)\n",
    "# Use appropriate device\n",
    "encoder = encoder.to(device)\n",
    "decoder = decoder.to(device)\n",
    "print('Models built and ready to go!')"
   ]
  },
  {
   "cell_type": "code",
   "execution_count": null,
   "metadata": {
    "colab": {
     "base_uri": "https://localhost:8080/"
    },
    "id": "10fF762H50yt",
    "outputId": "8ccade83-1d63-4824-e152-69d511e97829"
   },
   "outputs": [
    {
     "name": "stdout",
     "output_type": "stream",
     "text": [
      "Building optimizers ...\n",
      "Starting Training!\n",
      "Initializing ...\n",
      "Training...\n",
      "Iteration: 4250; Percent complete: 35.4%; Average loss: 3.2745\n",
      "Iteration: 4500; Percent complete: 37.5%; Average loss: 3.1798\n",
      "Iteration: 4750; Percent complete: 39.6%; Average loss: 3.0966\n",
      "Iteration: 5000; Percent complete: 41.7%; Average loss: 3.0308\n",
      "Iteration: 5250; Percent complete: 43.8%; Average loss: 3.0092\n",
      "Iteration: 5500; Percent complete: 45.8%; Average loss: 2.8724\n",
      "Iteration: 5750; Percent complete: 47.9%; Average loss: 2.7074\n",
      "Iteration: 6000; Percent complete: 50.0%; Average loss: 2.7107\n",
      "Iteration: 6250; Percent complete: 52.1%; Average loss: 2.7485\n",
      "Iteration: 6500; Percent complete: 54.2%; Average loss: 2.6478\n",
      "Iteration: 6750; Percent complete: 56.2%; Average loss: 2.6507\n",
      "Iteration: 7000; Percent complete: 58.3%; Average loss: 2.5473\n",
      "Iteration: 7250; Percent complete: 60.4%; Average loss: 2.4009\n",
      "Iteration: 7500; Percent complete: 62.5%; Average loss: 2.4131\n",
      "Iteration: 7750; Percent complete: 64.6%; Average loss: 2.4143\n",
      "Iteration: 8000; Percent complete: 66.7%; Average loss: 2.3901\n",
      "Iteration: 8250; Percent complete: 68.8%; Average loss: 2.2110\n",
      "Iteration: 8500; Percent complete: 70.8%; Average loss: 2.2549\n",
      "Iteration: 8750; Percent complete: 72.9%; Average loss: 2.0966\n",
      "Iteration: 9000; Percent complete: 75.0%; Average loss: 1.9744\n",
      "Iteration: 9250; Percent complete: 77.1%; Average loss: 2.0384\n",
      "Iteration: 9500; Percent complete: 79.2%; Average loss: 2.0629\n",
      "Iteration: 9750; Percent complete: 81.2%; Average loss: 1.9457\n",
      "Iteration: 10000; Percent complete: 83.3%; Average loss: 1.8472\n",
      "Iteration: 10250; Percent complete: 85.4%; Average loss: 1.8412\n",
      "Iteration: 10500; Percent complete: 87.5%; Average loss: 1.8645\n",
      "Iteration: 10750; Percent complete: 89.6%; Average loss: 1.8512\n",
      "Iteration: 11000; Percent complete: 91.7%; Average loss: 1.6917\n",
      "Iteration: 11250; Percent complete: 93.8%; Average loss: 1.7790\n",
      "Iteration: 11500; Percent complete: 95.8%; Average loss: 1.6459\n"
     ]
    }
   ],
   "source": [
    "\n",
    "teacher_forcing_ratio = 0.9\n",
    "\n",
    "# Ensure dropout layers are in train mode\n",
    "encoder.train()\n",
    "decoder.train()\n",
    "\n",
    "# Initialize optimizers\n",
    "print('Building optimizers ...')\n",
    "encoder_optimizer = optim.Adam(encoder.parameters(), lr=learning_rate)\n",
    "decoder_optimizer = optim.Adam(decoder.parameters(), lr=learning_rate * decoder_learning_ratio)\n",
    "if loadFilename:\n",
    "    encoder_optimizer.load_state_dict(encoder_optimizer_sd)\n",
    "    decoder_optimizer.load_state_dict(decoder_optimizer_sd)\n",
    "\n",
    "# If you have cuda, configure cuda to call\n",
    "for state in encoder_optimizer.state.values():\n",
    "    for k, v in state.items():\n",
    "        if isinstance(v, torch.Tensor):\n",
    "            state[k] = v.cuda()\n",
    "\n",
    "for state in decoder_optimizer.state.values():\n",
    "    for k, v in state.items():\n",
    "        if isinstance(v, torch.Tensor):\n",
    "            state[k] = v.cuda()\n",
    "# , teacher_forcing_ratio  out of scoup \n",
    "# Run training iterations\n",
    "print(\"Starting Training!\")\n",
    "loss_plot, iter_plot = trainIters(model_name, voc, pairs, encoder, decoder, encoder_optimizer, decoder_optimizer,\n",
    "           embedding, encoder_n_layers, decoder_n_layers, save_dir, n_iteration, batch_size,\n",
    "           print_every, save_every, clip, corpus_name.strip('.csv'), loadFilename)"
   ]
  },
  {
   "cell_type": "code",
   "execution_count": 60,
   "metadata": {
    "colab": {
     "base_uri": "https://localhost:8080/",
     "height": 279
    },
    "id": "og4wUzUpmNRl",
    "outputId": "0c53d510-a54b-4a13-92c9-a83e57a7d72b"
   },
   "outputs": [
    {
     "data": {
      "image/png": "[encoded data removed]",
      "text/plain": [
       "<Figure size 432x288 with 1 Axes>"
      ]
     },
     "metadata": {
      "needs_background": "light"
     },
     "output_type": "display_data"
    }
   ],
   "source": [
    "plt.plot(iter_plot, loss_plot)\n",
    "plt.xlabel(\"Epochs\")\n",
    "plt.ylabel(\"Loss\")\n",
    "plt.show()"
   ]
  },
  {
   "cell_type": "markdown",
   "metadata": {
    "id": "5_8afuzZHxmP"
   },
   "source": [
    "loss NAN\n",
    "\n",
    "```\n",
    "clip = 1.0\n",
    "learning_rate = 0.01\n",
    "decoder_learning_ratio = 5.0\n",
    "n_iteration = 400\n",
    "print_every = 25\n",
    "save_every = 100\n",
    "\n",
    "```\n",
    "\n"
   ]
  },
  {
   "cell_type": "code",
   "execution_count": 62,
   "metadata": {
    "id": "phjTEqaA50uV"
   },
   "outputs": [],
   "source": [
    "# Set dropout layers to eval mode\n",
    "encoder.eval()\n",
    "decoder.eval()\n",
    "\n",
    "# Initialize search module\n",
    "searcher = GreedySearchDecoder(encoder, decoder)"
   ]
  },
  {
   "cell_type": "markdown",
   "metadata": {
    "id": "J3F3wBKpFZzx"
   },
   "source": [
    "Be cearful what you wish for, son![image.png](data:image/png;base64,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)"
   ]
  },
  {
   "cell_type": "code",
   "execution_count": 63,
   "metadata": {
    "colab": {
     "base_uri": "https://localhost:8080/"
    },
    "id": "zporS7sp50rn",
    "outputId": "d4a9c29c-d09a-4fd3-b305-86ad022540b4"
   },
   "outputs": [
    {
     "name": "stdout",
     "output_type": "stream",
     "text": [
      "you> Hello! \n",
      "Bot> now i am really really now\n",
      "you> What do you think ? \n",
      "Bot> who is chester ? used used\n",
      "you> Do you like me ?\n",
      "Bot> no you me you me you you you\n",
      "you> How are you ?\n",
      "Bot> well i am . i am not very but i am better school\n",
      "you> Did you vote ?\n",
      "Bot> oh i do not know\n",
      "you> I want to be your friend\n",
      "Bot> marge i will be late can ?\n",
      "you> Good weather\n",
      "Bot> what if i can burn your your job back ?\n",
      "you> Can you mind yourself ?\n",
      "Bot> oh oh i know know\n",
      "you> Homer ?\n",
      "Bot> what ?\n",
      "you> Am i annoying ?\n",
      "Bot> it is too\n",
      "you> i knew it\n",
      "Bot> why you say dad . how is the best dad always says ?\n",
      "you> i love you, dad\n",
      "Bot> i love to i have to love how i\n",
      "you> q\n"
     ]
    }
   ],
   "source": [
    "# Begin chatting (uncomment and run the following line to begin)\n",
    "evaluateInput(encoder, decoder, searcher, voc)"
   ]
  },
  {
   "cell_type": "code",
   "execution_count": null,
   "metadata": {
    "id": "mLugpI97jcR5"
   },
   "outputs": [],
   "source": []
  },
  {
   "cell_type": "markdown",
   "metadata": {
    "id": "DEhigErQ86h1"
   },
   "source": [
    "Список некоторых используемых источников \n",
    "https://pytorch.org/tutorials/beginner/chatbot_tutorial.html\n",
    "https://www.kaggle.com/datasets/pierremegret/dialogue-lines-of-the-simpsons\n",
    "https://www.ijitee.org/wp-content/uploads/papers/v8i10/J88670881019.pdf\n",
    "https://www.ijsmdo.org/articles/smdo/full_html/2020/01/smdo190024/smdo190024.html\n",
    "https://towardsdatascience.com/generative-chatbots-using-the-seq2seq-model-d411c8738ab5\n",
    "https://bhashkarkunal.medium.com/conversational-ai-chatbot-using-deep-learning-how-bi-directional-lstm-machine-reading-38dc5cf5a5a3, прошлая версия работы https://www.kaggle.com/code/ferbor/d7046e-chatbot-experiment-simpsons-version"
   ]
  }
 ],
 "metadata": {
  "accelerator": "GPU",
  "colab": {
   "collapsed_sections": [],
   "name": "ChatBotTest.ipynb",
   "provenance": []
  },
  "kernelspec": {
   "display_name": "Python 3 (ipykernel)",
   "language": "python",
   "name": "python3"
  },
  "language_info": {
   "codemirror_mode": {
    "name": "ipython",
    "version": 3
   },
   "file_extension": ".py",
   "mimetype": "text/x-python",
   "name": "python",
   "nbconvert_exporter": "python",
   "pygments_lexer": "ipython3",
   "version": "3.10.2"
  }
 },
 "nbformat": 4,
 "nbformat_minor": 1
}
